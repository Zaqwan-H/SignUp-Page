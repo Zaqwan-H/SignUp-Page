{
  "nbformat": 4,
  "nbformat_minor": 0,
  "metadata": {
    "colab": {
      "name": "robbieThePriceMasterVersion1.0",
      "provenance": [],
      "collapsed_sections": [],
      "authorship_tag": "ABX9TyNfQmAxlNU1uY+PHJtZfjiw",
      "include_colab_link": true
    },
    "kernelspec": {
      "name": "python3",
      "display_name": "Python 3"
    },
    "language_info": {
      "name": "python"
    }
  },
  "cells": [
    {
      "cell_type": "markdown",
      "metadata": {
        "id": "view-in-github",
        "colab_type": "text"
      },
      "source": [
        "<a href=\"https://colab.research.google.com/github/Zaqwan-H/SignUp-Page/blob/master/robbieThePriceMasterVersion1_0.ipynb\" target=\"_parent\"><img src=\"https://colab.research.google.com/assets/colab-badge.svg\" alt=\"Open In Colab\"/></a>"
      ]
    },
    {
      "cell_type": "code",
      "metadata": {
        "colab": {
          "base_uri": "https://localhost:8080/"
        },
        "id": "VedeXuxPZIbK",
        "outputId": "6c0544b9-1d18-45a3-fdd6-0094decdab98"
      },
      "source": [
        "#gaming system brand values\n",
        "#A is for playstation, B is for XBox, C is for anything else\n",
        "A = 500\n",
        "B = 400\n",
        "C = 300\n",
        "#If there are more than required parts, add 50\n",
        "#If there are required parts missing, subtract 25\n",
        "D = 50\n",
        "E = 25\n",
        "#If condition is listed as good, add 25\n",
        "#if condition is listed as less than good, subtract 25\n",
        "#Divide the current total by A, B, or C when subtracted from A\n",
        "#Multiply the previous line by .33 or 33% \n",
        "G = .33\n",
        "H = 2\n",
        "I = .60\n",
        "J = \"You should receive at least \"\n",
        "#quote range is the previous line's total and up to previous line's total\n",
        "#plus .5% of the previous line\"s quote\n",
        "prompt1 = input(\"What brand is this?  \").lower()\n",
        "prompt2 = input(\"Does it have all required parts?  \").lower()\n",
        "if prompt1 == \"playstation\" and prompt2 == \"yes\":\n",
        "  (A)\n",
        "if prompt1 == \"playstation\" and prompt2 == \"no\":\n",
        "  (A-E)\n",
        "if prompt1 == \"xbox\" and prompt2 == \"yes\":\n",
        "  (B)\n",
        "if prompt1 == \"xbox\" and prompt2 == \"no\":\n",
        "  (B-E)\n",
        "if prompt1 == \"other\" and prompt2 == \"yes\":\n",
        "  (C)\n",
        "if prompt1 == \"other\" and prompt2 == \"no\":\n",
        "  (C-E)\n",
        "#For Playstation\n",
        "prompt3 = input(\"What condition is it in?  \").lower()\n",
        "if prompt1 == \"playstation\" and prompt3 == \"great\":\n",
        "  (A)\n",
        "if prompt1 == \"playstation\" and prompt3 != \"great\":\n",
        "  (A-E)\n",
        "#For Xbox\n",
        "if prompt1 == \"xbox\" and prompt3 == \"great\":\n",
        "  (B)\n",
        "if prompt1 == \"xbox\" and prompt3 is not \"great\":\n",
        "  (B-E)\n",
        "#For Other\n",
        "if prompt1 == \"other\" and prompt3 == \"great\":\n",
        "  (C+D)\n",
        "if prompt1 == \"other\" and prompt3 is not \"great\":\n",
        "  (C-E)\n",
        "#Gaming system model number for playstation\n",
        "prompt4 = input(\"What is the model?  \").lower()\n",
        "if prompt1 == \"playstation\" and prompt3 ==\"great\" and prompt4 == \"playstation 5\":\n",
        "  print((A+D)*G)\n",
        "if prompt1 == \"playstation\" and prompt3 != \"great\" and prompt4 == \"playstation 5\":\n",
        "  print((A+D)*I*G)\n",
        "if prompt1 == \"playstation\" and prompt3 ==\"great\" and prompt4 == \"playstation 4\":\n",
        "  print((A+D-E)*G)\n",
        "if prompt1 == \"playstation\" and prompt3 != \"great\" and prompt4 == \"playstation 4\":\n",
        "  print(((A+D-E)*G)*I)\n",
        "if prompt1 == \"playstation\" and prompt3 ==\"great\" and prompt4 == \"playstation 3\":\n",
        "  print(((A+D-D)*G)*I)\n",
        "if prompt1 == \"playstation\" and prompt3 != \"great\" and prompt4 == \"playstation 3\":\n",
        "  print((A+D)*I)\n",
        "if prompt1 == \"playstation\" and prompt3 ==\"great\" and prompt4 == \"playstation 2\":\n",
        "  print((A+D)*G)\n",
        "if prompt1 == \"playstation\" and prompt3 != \"great\" and prompt4 == \"playstation 2\":\n",
        "  print((A+D)*I)\n",
        "\n",
        "#Gaming system model number for XBox\n",
        "if prompt1 == \"xbox\" and prompt3 ==\"great\" and prompt4 == \"series x\":\n",
        "  print((B+D)*G)\n",
        "if prompt1 == \"xbox\" and prompt3 != \"great\" and prompt4 == \"series x\":\n",
        "  print((B+D)*I*G)\n",
        "if prompt1 == \"xbox\" and prompt3 ==\"great\" and prompt4 == \"one x\":\n",
        "  print((B+D-E)*G)\n",
        "if prompt1 == \"xbox\" and prompt3 != \"great\" and prompt4 == \"one x\":\n",
        "  print(((B+D-E)*G)*I)\n",
        "if prompt1 == \"xbox\" and prompt3 ==\"great\" and prompt4 == \"one s\":\n",
        "  print(((B+D-D)*G)*I)\n",
        "if prompt1 == \"xbox\" and prompt3 != \"great\" and prompt4 == \"one s\":\n",
        "  print((B+D)*I)\n",
        "if prompt1 == \"xbox\" and prompt3 ==\"great\" and prompt4 == \"360 E\":\n",
        "  print((B+D)*G)\n",
        "if prompt1 == \"xbox\" and prompt3 != \"great\" and prompt4 == \"360 e\":\n",
        "  print((B+D)*I)\n",
        "if prompt1 == \"xbox\" and prompt3 ==\"great\" and prompt4 == \"360 s\":\n",
        "  print(\"You should recieve at least \"(B+D)*G)\n",
        "if prompt1 == \"xbox\" and prompt3 != \"great\" and prompt4 == \"360 s\":\n",
        "  print(\"You should recieve at least \"(B+D)*I)\n",
        "if prompt1 == \"xbox\" and prompt3 ==\"great\" and prompt4 == \"original\":\n",
        "  print(\"You should recieve at least \"(B+D)*G)\n",
        "if prompt1 == \"xbox\" and prompt3 != \"great\" and prompt4 == \"original\":\n",
        "  print(\"You should recieve at least \"(B+D)*I)\n",
        "\n",
        "#Other\n",
        "if prompt1 == \"other\" and prompt3 ==\"great\" and prompt4 == \"original\":\n",
        "  print(\"You should recieve at least \"(D))\n",
        "if prompt1 == \"other\" and prompt3 != \"great\" and prompt4 == \"original\":\n",
        "  print(\"You should recieve at least \"(C+D)*I)  \n",
        "\n",
        "\n",
        "\n",
        "\n",
        "\n",
        "\n",
        "\n"
      ],
      "execution_count": null,
      "outputs": [
        {
          "output_type": "stream",
          "name": "stdout",
          "text": [
            "What brand is this?  playstation\n",
            "Does it have all required parts?  yes\n",
            "What condition is it in?  great\n",
            "What is the model?  playstation 5\n",
            "181.5\n"
          ]
        }
      ]
    }
  ]
}